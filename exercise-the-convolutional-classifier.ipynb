{
 "cells": [
  {
   "cell_type": "markdown",
   "id": "9fd9a2cc",
   "metadata": {
    "papermill": {
     "duration": 0.00597,
     "end_time": "2023-02-24T23:22:59.626727",
     "exception": false,
     "start_time": "2023-02-24T23:22:59.620757",
     "status": "completed"
    },
    "tags": []
   },
   "source": [
    "**This notebook is an exercise in the [Computer Vision](https://www.kaggle.com/learn/computer-vision) course.  You can reference the tutorial at [this link](https://www.kaggle.com/ryanholbrook/the-convolutional-classifier).**\n",
    "\n",
    "---\n"
   ]
  },
  {
   "cell_type": "markdown",
   "id": "546c4a56",
   "metadata": {
    "papermill": {
     "duration": 0.004645,
     "end_time": "2023-02-24T23:22:59.636384",
     "exception": false,
     "start_time": "2023-02-24T23:22:59.631739",
     "status": "completed"
    },
    "tags": []
   },
   "source": [
    "<blockquote style=\"margin-right:auto; margin-left:auto; background-color: #ebf9ff; padding: 1em; margin:24px;\">\n",
    "    <strong>Accelerate Training with a Kaggle GPU!</strong><br>\n",
    "Did you know Kaggle offers free time with a GPU accelerator? You can speed up training neural networks in this course by switching to <strong>GPU</strong> in the <em>Accelerator</em> option on the right. (It may already be turned on.) Two things to be aware of:\n",
    "<ul>\n",
    "<li>Changing the <em>Accelerator</em> option will cause the notebook session to restart. You'll need to rerun any setup code.\n",
    "<li>You can have only one GPU session at a time, so be sure to shut the notebook down after you've finished the exercise.\n",
    "</ul>\n",
    "</blockquote>"
   ]
  },
  {
   "cell_type": "markdown",
   "id": "e816ba89",
   "metadata": {
    "papermill": {
     "duration": 0.004524,
     "end_time": "2023-02-24T23:22:59.645671",
     "exception": false,
     "start_time": "2023-02-24T23:22:59.641147",
     "status": "completed"
    },
    "tags": []
   },
   "source": [
    "# Introduction #\n",
    "\n",
    "In the tutorial, we saw how to build an image classifier by attaching a head of dense layers to a pretrained base. The base we used was from a model called **VGG16**. We saw that the VGG16 architecture was prone to overfitting this dataset. Over this course, you'll learn a number of ways you can improve upon this initial attempt.\n",
    "\n",
    "The first way you'll see is to use a base more appropriate to the dataset. The base this model comes from is called **InceptionV1** (also known as GoogLeNet). InceptionV1 was one of the early winners of the ImageNet competition. One of its successors, InceptionV4, is among the state of the art today.\n",
    "\n",
    "To get started, run the code cell below to set everything up."
   ]
  },
  {
   "cell_type": "code",
   "execution_count": 1,
   "id": "4acd449c",
   "metadata": {
    "execution": {
     "iopub.execute_input": "2023-02-24T23:22:59.657330Z",
     "iopub.status.busy": "2023-02-24T23:22:59.656763Z",
     "iopub.status.idle": "2023-02-24T23:23:14.586585Z",
     "shell.execute_reply": "2023-02-24T23:23:14.585388Z"
    },
    "lines_to_next_cell": 2,
    "papermill": {
     "duration": 14.938599,
     "end_time": "2023-02-24T23:23:14.589089",
     "exception": false,
     "start_time": "2023-02-24T23:22:59.650490",
     "status": "completed"
    },
    "tags": []
   },
   "outputs": [
    {
     "name": "stdout",
     "output_type": "stream",
     "text": [
      "Found 5117 files belonging to 2 classes.\n",
      "Found 5051 files belonging to 2 classes.\n"
     ]
    }
   ],
   "source": [
    "# Setup feedback system\n",
    "from learntools.core import binder\n",
    "binder.bind(globals())\n",
    "from learntools.computer_vision.ex1 import *\n",
    "\n",
    "# Imports\n",
    "import os, warnings\n",
    "import matplotlib.pyplot as plt\n",
    "from matplotlib import gridspec\n",
    "\n",
    "import numpy as np\n",
    "import tensorflow as tf\n",
    "from tensorflow.keras.preprocessing import image_dataset_from_directory\n",
    "\n",
    "# Reproducability\n",
    "def set_seed(seed=31415):\n",
    "    np.random.seed(seed)\n",
    "    tf.random.set_seed(seed)\n",
    "    os.environ['PYTHONHASHSEED'] = str(seed)\n",
    "    os.environ['TF_DETERMINISTIC_OPS'] = '1'\n",
    "set_seed()\n",
    "\n",
    "# Set Matplotlib defaults\n",
    "plt.rc('figure', autolayout=True)\n",
    "plt.rc('axes', labelweight='bold', labelsize='large',\n",
    "       titleweight='bold', titlesize=18, titlepad=10)\n",
    "plt.rc('image', cmap='magma')\n",
    "warnings.filterwarnings(\"ignore\") # to clean up output cells\n",
    "\n",
    "\n",
    "# Load training and validation sets\n",
    "ds_train_ = image_dataset_from_directory(\n",
    "    '../input/car-or-truck/train',\n",
    "    labels='inferred',\n",
    "    label_mode='binary',\n",
    "    image_size=[128, 128],\n",
    "    batch_size=64,\n",
    "    shuffle=True,\n",
    ")\n",
    "ds_valid_ = image_dataset_from_directory(\n",
    "    '../input/car-or-truck/valid',\n",
    "    labels='inferred',\n",
    "    label_mode='binary',\n",
    "    image_size=[128, 128],\n",
    "    batch_size=64,\n",
    "    shuffle=False,\n",
    ")\n",
    "\n",
    "# Data Pipeline\n",
    "def convert_to_float(image, label):\n",
    "    image = tf.image.convert_image_dtype(image, dtype=tf.float32)\n",
    "    return image, label\n",
    "\n",
    "AUTOTUNE = tf.data.experimental.AUTOTUNE\n",
    "ds_train = (\n",
    "    ds_train_\n",
    "    .map(convert_to_float)\n",
    "    .cache()\n",
    "    .prefetch(buffer_size=AUTOTUNE)\n",
    ")\n",
    "ds_valid = (\n",
    "    ds_valid_\n",
    "    .map(convert_to_float)\n",
    "    .cache()\n",
    "    .prefetch(buffer_size=AUTOTUNE)\n",
    ")\n"
   ]
  },
  {
   "cell_type": "markdown",
   "id": "e62294c5",
   "metadata": {
    "papermill": {
     "duration": 0.004827,
     "end_time": "2023-02-24T23:23:14.599221",
     "exception": false,
     "start_time": "2023-02-24T23:23:14.594394",
     "status": "completed"
    },
    "tags": []
   },
   "source": [
    "The **InceptionV1** model pretrained on ImageNet is available in the [TensorFlow Hub](https://www.tensorflow.org/hub/) repository, but we'll load it from a local copy. Run this cell to load InceptionV1 for your base."
   ]
  },
  {
   "cell_type": "code",
   "execution_count": 2,
   "id": "67570ec7",
   "metadata": {
    "execution": {
     "iopub.execute_input": "2023-02-24T23:23:14.610411Z",
     "iopub.status.busy": "2023-02-24T23:23:14.610108Z",
     "iopub.status.idle": "2023-02-24T23:23:17.686566Z",
     "shell.execute_reply": "2023-02-24T23:23:17.685543Z"
    },
    "lines_to_next_cell": 0,
    "papermill": {
     "duration": 3.084996,
     "end_time": "2023-02-24T23:23:17.689141",
     "exception": false,
     "start_time": "2023-02-24T23:23:14.604145",
     "status": "completed"
    },
    "tags": []
   },
   "outputs": [],
   "source": [
    "import tensorflow_hub as hub\n",
    "\n",
    "pretrained_base = tf.keras.models.load_model(\n",
    "    '../input/cv-course-models/cv-course-models/inceptionv1'\n",
    ")\n",
    "pretrained_base.trainable = False"
   ]
  },
  {
   "cell_type": "markdown",
   "id": "b5b7bbb5",
   "metadata": {
    "papermill": {
     "duration": 0.004867,
     "end_time": "2023-02-24T23:23:17.699263",
     "exception": false,
     "start_time": "2023-02-24T23:23:17.694396",
     "status": "completed"
    },
    "tags": []
   },
   "source": [
    "# 1) Define Pretrained Base #\n",
    "\n",
    "Now that you have a pretrained base to do our feature extraction, decide whether this base should be trainable or not."
   ]
  },
  {
   "cell_type": "code",
   "execution_count": 3,
   "id": "5e306906",
   "metadata": {
    "execution": {
     "iopub.execute_input": "2023-02-24T23:23:17.710748Z",
     "iopub.status.busy": "2023-02-24T23:23:17.710443Z",
     "iopub.status.idle": "2023-02-24T23:23:17.721558Z",
     "shell.execute_reply": "2023-02-24T23:23:17.720313Z"
    },
    "lines_to_next_cell": 0,
    "papermill": {
     "duration": 0.019607,
     "end_time": "2023-02-24T23:23:17.723987",
     "exception": false,
     "start_time": "2023-02-24T23:23:17.704380",
     "status": "completed"
    },
    "tags": []
   },
   "outputs": [
    {
     "data": {
      "application/javascript": [
       "parent.postMessage({\"jupyterEvent\": \"custom.exercise_interaction\", \"data\": {\"outcomeType\": 1, \"valueTowardsCompletion\": 0.25, \"interactionType\": 1, \"questionType\": 2, \"questionId\": \"1_Q1\", \"learnToolsVersion\": \"0.3.4\", \"failureMessage\": \"\", \"exceptionClass\": \"\", \"trace\": \"\"}}, \"*\")"
      ],
      "text/plain": [
       "<IPython.core.display.Javascript object>"
      ]
     },
     "metadata": {},
     "output_type": "display_data"
    },
    {
     "data": {
      "text/markdown": [
       "<span style=\"color:#33cc33\">Correct:</span> When doing transfer learning, it's generally not a good idea to retrain the entire base -- at least not without some care. The reason is that the random weights in the head will initially create large gradient updates, which propogate back into the base layers and destroy much of the pretraining. Using techniques known as **fine tuning** it's possible to further train the base on new data, but this requires some care to do well."
      ],
      "text/plain": [
       "Correct: When doing transfer learning, it's generally not a good idea to retrain the entire base -- at least not without some care. The reason is that the random weights in the head will initially create large gradient updates, which propogate back into the base layers and destroy much of the pretraining. Using techniques known as **fine tuning** it's possible to further train the base on new data, but this requires some care to do well."
      ]
     },
     "metadata": {},
     "output_type": "display_data"
    }
   ],
   "source": [
    "# YOUR_CODE_HERE\n",
    "from tensorflow import keras\n",
    "from keras.layers import Dense\n",
    "pretrained_base.trainable = False\n",
    "\n",
    "# Check your answer\n",
    "q_1.check()"
   ]
  },
  {
   "cell_type": "code",
   "execution_count": 4,
   "id": "3e9d15b3",
   "metadata": {
    "execution": {
     "iopub.execute_input": "2023-02-24T23:23:17.735486Z",
     "iopub.status.busy": "2023-02-24T23:23:17.735199Z",
     "iopub.status.idle": "2023-02-24T23:23:17.739305Z",
     "shell.execute_reply": "2023-02-24T23:23:17.738237Z"
    },
    "papermill": {
     "duration": 0.012609,
     "end_time": "2023-02-24T23:23:17.741692",
     "exception": false,
     "start_time": "2023-02-24T23:23:17.729083",
     "status": "completed"
    },
    "tags": []
   },
   "outputs": [],
   "source": [
    "# Lines below will give you a hint or solution code\n",
    "#q_1.hint()\n",
    "#q_1.solution()"
   ]
  },
  {
   "cell_type": "markdown",
   "id": "06518f1b",
   "metadata": {
    "papermill": {
     "duration": 0.005155,
     "end_time": "2023-02-24T23:23:17.751870",
     "exception": false,
     "start_time": "2023-02-24T23:23:17.746715",
     "status": "completed"
    },
    "tags": []
   },
   "source": [
    "# 2) Attach Head #\n",
    "\n",
    "Now that the base is defined to do the feature extraction, create a head of `Dense` layers to perform the classification, following this diagram:\n",
    "\n",
    "<figure>\n",
    "<img src=\"https://i.imgur.com/i5VU7Ry.png\" alt=\"Diagram of the dense head.\">\n",
    "</figure>\n"
   ]
  },
  {
   "cell_type": "code",
   "execution_count": 5,
   "id": "8a90582c",
   "metadata": {
    "execution": {
     "iopub.execute_input": "2023-02-24T23:23:17.763172Z",
     "iopub.status.busy": "2023-02-24T23:23:17.762893Z",
     "iopub.status.idle": "2023-02-24T23:23:17.781837Z",
     "shell.execute_reply": "2023-02-24T23:23:17.780843Z"
    },
    "lines_to_next_cell": 0,
    "papermill": {
     "duration": 0.026951,
     "end_time": "2023-02-24T23:23:17.783957",
     "exception": false,
     "start_time": "2023-02-24T23:23:17.757006",
     "status": "completed"
    },
    "tags": []
   },
   "outputs": [
    {
     "data": {
      "application/javascript": [
       "parent.postMessage({\"jupyterEvent\": \"custom.exercise_interaction\", \"data\": {\"outcomeType\": 1, \"valueTowardsCompletion\": 0.25, \"interactionType\": 1, \"questionType\": 2, \"questionId\": \"2_Q2\", \"learnToolsVersion\": \"0.3.4\", \"failureMessage\": \"\", \"exceptionClass\": \"\", \"trace\": \"\"}}, \"*\")"
      ],
      "text/plain": [
       "<IPython.core.display.Javascript object>"
      ]
     },
     "metadata": {},
     "output_type": "display_data"
    },
    {
     "data": {
      "text/markdown": [
       "<span style=\"color:#33cc33\">Correct</span>"
      ],
      "text/plain": [
       "Correct"
      ]
     },
     "metadata": {},
     "output_type": "display_data"
    }
   ],
   "source": [
    "from tensorflow import keras\n",
    "from tensorflow.keras import layers\n",
    "from keras.models import Sequential\n",
    "\n",
    "model = Sequential([\n",
    "    pretrained_base,\n",
    "    layers.Flatten(),\n",
    "    layers.Dense(units=6, activation='relu'),\n",
    "    layers.Dense(units=1, activation='sigmoid')\n",
    "])\n",
    "\n",
    "# Check your answer\n",
    "q_2.check()"
   ]
  },
  {
   "cell_type": "code",
   "execution_count": 6,
   "id": "ad305569",
   "metadata": {
    "execution": {
     "iopub.execute_input": "2023-02-24T23:23:17.796914Z",
     "iopub.status.busy": "2023-02-24T23:23:17.795487Z",
     "iopub.status.idle": "2023-02-24T23:23:17.799957Z",
     "shell.execute_reply": "2023-02-24T23:23:17.799069Z"
    },
    "papermill": {
     "duration": 0.012794,
     "end_time": "2023-02-24T23:23:17.802039",
     "exception": false,
     "start_time": "2023-02-24T23:23:17.789245",
     "status": "completed"
    },
    "tags": []
   },
   "outputs": [],
   "source": [
    "# Lines below will give you a hint or solution code\n",
    "#q_2.hint()\n",
    "#q_2.solution()"
   ]
  },
  {
   "cell_type": "markdown",
   "id": "d6d5bdbc",
   "metadata": {
    "papermill": {
     "duration": 0.005171,
     "end_time": "2023-02-24T23:23:17.812706",
     "exception": false,
     "start_time": "2023-02-24T23:23:17.807535",
     "status": "completed"
    },
    "tags": []
   },
   "source": [
    "# 3) Train #\n",
    "\n",
    "Before training a model in Keras, you need to specify an *optimizer* to perform the gradient descent, a *loss function* to be minimized, and (optionally) any *performance metrics*. The optimization algorithm we'll use for this course is called [\"Adam\"](https://keras.io/api/optimizers/adam/), which generally performs well regardless of what kind of problem you're trying to solve.\n",
    "\n",
    "The loss and the metrics, however, need to match the kind of problem you're trying to solve. Our problem is a **binary classification** problem: `Car` coded as 0, and `Truck` coded as 1. Choose an appropriate loss and an appropriate accuracy metric for binary classification."
   ]
  },
  {
   "cell_type": "code",
   "execution_count": 7,
   "id": "86a14f52",
   "metadata": {
    "execution": {
     "iopub.execute_input": "2023-02-24T23:23:17.825629Z",
     "iopub.status.busy": "2023-02-24T23:23:17.824136Z",
     "iopub.status.idle": "2023-02-24T23:23:17.847595Z",
     "shell.execute_reply": "2023-02-24T23:23:17.846541Z"
    },
    "lines_to_next_cell": 0,
    "papermill": {
     "duration": 0.031769,
     "end_time": "2023-02-24T23:23:17.849778",
     "exception": false,
     "start_time": "2023-02-24T23:23:17.818009",
     "status": "completed"
    },
    "tags": []
   },
   "outputs": [
    {
     "data": {
      "application/javascript": [
       "parent.postMessage({\"jupyterEvent\": \"custom.exercise_interaction\", \"data\": {\"outcomeType\": 1, \"valueTowardsCompletion\": 0.25, \"interactionType\": 1, \"questionType\": 2, \"questionId\": \"3_Q3\", \"learnToolsVersion\": \"0.3.4\", \"failureMessage\": \"\", \"exceptionClass\": \"\", \"trace\": \"\"}}, \"*\")"
      ],
      "text/plain": [
       "<IPython.core.display.Javascript object>"
      ]
     },
     "metadata": {},
     "output_type": "display_data"
    },
    {
     "data": {
      "text/markdown": [
       "<span style=\"color:#33cc33\">Correct</span>"
      ],
      "text/plain": [
       "Correct"
      ]
     },
     "metadata": {},
     "output_type": "display_data"
    }
   ],
   "source": [
    "# YOUR CODE HERE: what loss function should you use for a binary\n",
    "# classification problem? (Your answer for each should be a string.)\n",
    "optimizer = tf.keras.optimizers.Adam(epsilon=0.01)\n",
    "model.compile(\n",
    "    optimizer=optimizer,\n",
    "    loss=\"binary_crossentropy\",\n",
    "    metrics=['binary_accuracy']\n",
    ")\n",
    "\n",
    "# Check your answer\n",
    "q_3.check()"
   ]
  },
  {
   "cell_type": "code",
   "execution_count": 8,
   "id": "696e5b01",
   "metadata": {
    "execution": {
     "iopub.execute_input": "2023-02-24T23:23:17.863130Z",
     "iopub.status.busy": "2023-02-24T23:23:17.862321Z",
     "iopub.status.idle": "2023-02-24T23:23:17.866749Z",
     "shell.execute_reply": "2023-02-24T23:23:17.865830Z"
    },
    "lines_to_next_cell": 0,
    "papermill": {
     "duration": 0.012836,
     "end_time": "2023-02-24T23:23:17.868736",
     "exception": false,
     "start_time": "2023-02-24T23:23:17.855900",
     "status": "completed"
    },
    "tags": []
   },
   "outputs": [],
   "source": [
    "# Lines below will give you a hint or solution code\n",
    "#q_3.hint()\n",
    "#q_3.solution()"
   ]
  },
  {
   "cell_type": "code",
   "execution_count": 9,
   "id": "eac1bfaa",
   "metadata": {
    "execution": {
     "iopub.execute_input": "2023-02-24T23:23:17.881514Z",
     "iopub.status.busy": "2023-02-24T23:23:17.880706Z",
     "iopub.status.idle": "2023-02-24T23:23:17.885698Z",
     "shell.execute_reply": "2023-02-24T23:23:17.884820Z"
    },
    "papermill": {
     "duration": 0.013414,
     "end_time": "2023-02-24T23:23:17.887805",
     "exception": false,
     "start_time": "2023-02-24T23:23:17.874391",
     "status": "completed"
    },
    "tags": []
   },
   "outputs": [],
   "source": [
    "import warnings\n",
    "warnings.filterwarnings('ignore')"
   ]
  },
  {
   "cell_type": "code",
   "execution_count": 10,
   "id": "36cf0072",
   "metadata": {
    "execution": {
     "iopub.execute_input": "2023-02-24T23:23:17.900493Z",
     "iopub.status.busy": "2023-02-24T23:23:17.899698Z",
     "iopub.status.idle": "2023-02-24T23:23:17.904298Z",
     "shell.execute_reply": "2023-02-24T23:23:17.903364Z"
    },
    "papermill": {
     "duration": 0.012915,
     "end_time": "2023-02-24T23:23:17.906329",
     "exception": false,
     "start_time": "2023-02-24T23:23:17.893414",
     "status": "completed"
    },
    "tags": []
   },
   "outputs": [],
   "source": [
    "from keras.callbacks import EarlyStopping\n",
    "early_stopping = EarlyStopping(\n",
    "   patience = 10,\n",
    "   min_delta = 0.001, \n",
    "   restore_best_weights = True\n",
    ")"
   ]
  },
  {
   "cell_type": "markdown",
   "id": "15c18363",
   "metadata": {
    "papermill": {
     "duration": 0.005363,
     "end_time": "2023-02-24T23:23:17.917118",
     "exception": false,
     "start_time": "2023-02-24T23:23:17.911755",
     "status": "completed"
    },
    "tags": []
   },
   "source": [
    "Run the cell below to plot the loss and metric curves for this training run."
   ]
  },
  {
   "cell_type": "code",
   "execution_count": 11,
   "id": "d963c272",
   "metadata": {
    "execution": {
     "iopub.execute_input": "2023-02-24T23:23:17.929421Z",
     "iopub.status.busy": "2023-02-24T23:23:17.928866Z",
     "iopub.status.idle": "2023-02-24T23:26:13.215752Z",
     "shell.execute_reply": "2023-02-24T23:26:13.214639Z"
    },
    "papermill": {
     "duration": 175.295543,
     "end_time": "2023-02-24T23:26:13.218141",
     "exception": false,
     "start_time": "2023-02-24T23:23:17.922598",
     "status": "completed"
    },
    "tags": []
   },
   "outputs": [
    {
     "name": "stdout",
     "output_type": "stream",
     "text": [
      "Epoch 1/1000\n",
      "80/80 [==============================] - 34s 265ms/step - loss: 1.1503 - binary_accuracy: 0.5568 - val_loss: 0.6895 - val_binary_accuracy: 0.5779\n",
      "Epoch 2/1000\n",
      "80/80 [==============================] - 5s 57ms/step - loss: 0.6887 - binary_accuracy: 0.5787 - val_loss: 0.6784 - val_binary_accuracy: 0.5785\n",
      "Epoch 3/1000\n",
      "80/80 [==============================] - 4s 54ms/step - loss: 0.6826 - binary_accuracy: 0.5787 - val_loss: 0.6766 - val_binary_accuracy: 0.5785\n",
      "Epoch 4/1000\n",
      "80/80 [==============================] - 5s 60ms/step - loss: 0.6749 - binary_accuracy: 0.5787 - val_loss: 0.6770 - val_binary_accuracy: 0.5785\n",
      "Epoch 5/1000\n",
      "80/80 [==============================] - 4s 54ms/step - loss: 0.6558 - binary_accuracy: 0.5787 - val_loss: 0.6423 - val_binary_accuracy: 0.5785\n",
      "Epoch 6/1000\n",
      "80/80 [==============================] - 4s 54ms/step - loss: 0.6325 - binary_accuracy: 0.5787 - val_loss: 0.6340 - val_binary_accuracy: 0.5785\n",
      "Epoch 7/1000\n",
      "80/80 [==============================] - 4s 55ms/step - loss: 0.6259 - binary_accuracy: 0.5787 - val_loss: 0.6284 - val_binary_accuracy: 0.5785\n",
      "Epoch 8/1000\n",
      "80/80 [==============================] - 4s 54ms/step - loss: 0.6196 - binary_accuracy: 0.5787 - val_loss: 0.6265 - val_binary_accuracy: 0.5785\n",
      "Epoch 9/1000\n",
      "80/80 [==============================] - 4s 56ms/step - loss: 0.6149 - binary_accuracy: 0.6396 - val_loss: 0.6237 - val_binary_accuracy: 0.6500\n",
      "Epoch 10/1000\n",
      "80/80 [==============================] - 4s 53ms/step - loss: 0.6123 - binary_accuracy: 0.6588 - val_loss: 0.6240 - val_binary_accuracy: 0.6434\n",
      "Epoch 11/1000\n",
      "80/80 [==============================] - 4s 54ms/step - loss: 0.6119 - binary_accuracy: 0.6566 - val_loss: 0.6221 - val_binary_accuracy: 0.6474\n",
      "Epoch 12/1000\n",
      "80/80 [==============================] - 4s 55ms/step - loss: 0.6087 - binary_accuracy: 0.6629 - val_loss: 0.6173 - val_binary_accuracy: 0.6573\n",
      "Epoch 13/1000\n",
      "80/80 [==============================] - 4s 53ms/step - loss: 0.6040 - binary_accuracy: 0.6660 - val_loss: 0.6197 - val_binary_accuracy: 0.6458\n",
      "Epoch 14/1000\n",
      "80/80 [==============================] - 4s 55ms/step - loss: 0.6021 - binary_accuracy: 0.6727 - val_loss: 0.6132 - val_binary_accuracy: 0.6622\n",
      "Epoch 15/1000\n",
      "80/80 [==============================] - 4s 53ms/step - loss: 0.5993 - binary_accuracy: 0.6697 - val_loss: 0.6139 - val_binary_accuracy: 0.6535\n",
      "Epoch 16/1000\n",
      "80/80 [==============================] - 4s 55ms/step - loss: 0.5956 - binary_accuracy: 0.6746 - val_loss: 0.6100 - val_binary_accuracy: 0.6674\n",
      "Epoch 17/1000\n",
      "80/80 [==============================] - 4s 54ms/step - loss: 0.5933 - binary_accuracy: 0.6758 - val_loss: 0.6097 - val_binary_accuracy: 0.6676\n",
      "Epoch 18/1000\n",
      "80/80 [==============================] - 4s 53ms/step - loss: 0.5922 - binary_accuracy: 0.6773 - val_loss: 0.6122 - val_binary_accuracy: 0.6692\n",
      "Epoch 19/1000\n",
      "80/80 [==============================] - 4s 55ms/step - loss: 0.5955 - binary_accuracy: 0.6746 - val_loss: 0.6082 - val_binary_accuracy: 0.6658\n",
      "Epoch 20/1000\n",
      "80/80 [==============================] - 4s 53ms/step - loss: 0.5944 - binary_accuracy: 0.6781 - val_loss: 0.6150 - val_binary_accuracy: 0.6456\n",
      "Epoch 21/1000\n",
      "80/80 [==============================] - 4s 53ms/step - loss: 0.5936 - binary_accuracy: 0.6803 - val_loss: 0.6116 - val_binary_accuracy: 0.6527\n",
      "Epoch 22/1000\n",
      "80/80 [==============================] - 4s 55ms/step - loss: 0.5903 - binary_accuracy: 0.6844 - val_loss: 0.6059 - val_binary_accuracy: 0.6672\n",
      "Epoch 23/1000\n",
      "80/80 [==============================] - 5s 61ms/step - loss: 0.5891 - binary_accuracy: 0.6854 - val_loss: 0.6047 - val_binary_accuracy: 0.6692\n",
      "Epoch 24/1000\n",
      "80/80 [==============================] - 4s 54ms/step - loss: 0.5873 - binary_accuracy: 0.6830 - val_loss: 0.6048 - val_binary_accuracy: 0.6721\n",
      "Epoch 25/1000\n",
      "80/80 [==============================] - 4s 53ms/step - loss: 0.5869 - binary_accuracy: 0.6859 - val_loss: 0.6048 - val_binary_accuracy: 0.6723\n",
      "Epoch 26/1000\n",
      "80/80 [==============================] - 4s 53ms/step - loss: 0.5842 - binary_accuracy: 0.6901 - val_loss: 0.6045 - val_binary_accuracy: 0.6723\n",
      "Epoch 27/1000\n",
      "80/80 [==============================] - 4s 54ms/step - loss: 0.5828 - binary_accuracy: 0.6891 - val_loss: 0.6058 - val_binary_accuracy: 0.6731\n",
      "Epoch 28/1000\n",
      "80/80 [==============================] - 4s 53ms/step - loss: 0.5826 - binary_accuracy: 0.6914 - val_loss: 0.6053 - val_binary_accuracy: 0.6725\n",
      "Epoch 29/1000\n",
      "80/80 [==============================] - 4s 54ms/step - loss: 0.5815 - binary_accuracy: 0.6904 - val_loss: 0.6083 - val_binary_accuracy: 0.6717\n",
      "Epoch 30/1000\n",
      "80/80 [==============================] - 4s 54ms/step - loss: 0.5815 - binary_accuracy: 0.6879 - val_loss: 0.6049 - val_binary_accuracy: 0.6708\n",
      "Epoch 31/1000\n",
      "80/80 [==============================] - 4s 54ms/step - loss: 0.5810 - binary_accuracy: 0.6893 - val_loss: 0.6047 - val_binary_accuracy: 0.6710\n",
      "Epoch 32/1000\n",
      "80/80 [==============================] - 4s 54ms/step - loss: 0.5777 - binary_accuracy: 0.6930 - val_loss: 0.6046 - val_binary_accuracy: 0.6710\n",
      "Epoch 33/1000\n",
      "80/80 [==============================] - 4s 55ms/step - loss: 0.5764 - binary_accuracy: 0.6949 - val_loss: 0.6050 - val_binary_accuracy: 0.6712\n"
     ]
    }
   ],
   "source": [
    "history = model.fit(\n",
    "    ds_train,\n",
    "    validation_data=ds_valid,\n",
    "    epochs=1000,\n",
    "    batch_size = 100,\n",
    "    callbacks = [early_stopping]\n",
    ")"
   ]
  },
  {
   "cell_type": "code",
   "execution_count": 12,
   "id": "76646823",
   "metadata": {
    "execution": {
     "iopub.execute_input": "2023-02-24T23:26:13.377873Z",
     "iopub.status.busy": "2023-02-24T23:26:13.376882Z",
     "iopub.status.idle": "2023-02-24T23:26:14.041004Z",
     "shell.execute_reply": "2023-02-24T23:26:14.039947Z"
    },
    "papermill": {
     "duration": 0.746131,
     "end_time": "2023-02-24T23:26:14.043621",
     "exception": false,
     "start_time": "2023-02-24T23:26:13.297490",
     "status": "completed"
    },
    "tags": []
   },
   "outputs": [
    {
     "data": {
      "image/png": "[encoded data removed]",
      "text/plain": [
       "<Figure size 640x480 with 1 Axes>"
      ]
     },
     "metadata": {},
     "output_type": "display_data"
    },
    {
     "data": {
      "image/png": "[encoded data removed]",
      "text/plain": [
       "<Figure size 640x480 with 1 Axes>"
      ]
     },
     "metadata": {},
     "output_type": "display_data"
    }
   ],
   "source": [
    "import pandas as pd\n",
    "history_frame = pd.DataFrame(history.history)\n",
    "history_frame.loc[:, ['loss', 'val_loss']].plot()\n",
    "history_frame.loc[:, ['binary_accuracy', 'val_binary_accuracy']].plot();"
   ]
  },
  {
   "cell_type": "markdown",
   "id": "988611fb",
   "metadata": {
    "papermill": {
     "duration": 0.084508,
     "end_time": "2023-02-24T23:26:14.217175",
     "exception": false,
     "start_time": "2023-02-24T23:26:14.132667",
     "status": "completed"
    },
    "tags": []
   },
   "source": [
    "# 4) Examine Loss and Accuracy #\n",
    "\n",
    "Do you notice a difference between these learning curves and the curves for VGG16 from the tutorial? What does this difference tell you about what this model (InceptionV2) learned compared to VGG16? Are there ways in which one is better than the other? Worse?\n",
    "\n",
    "After you've thought about it, run the cell below to see the answer."
   ]
  },
  {
   "cell_type": "code",
   "execution_count": 13,
   "id": "755f7a0a",
   "metadata": {
    "execution": {
     "iopub.execute_input": "2023-02-24T23:26:14.389246Z",
     "iopub.status.busy": "2023-02-24T23:26:14.388160Z",
     "iopub.status.idle": "2023-02-24T23:26:14.397535Z",
     "shell.execute_reply": "2023-02-24T23:26:14.396487Z"
    },
    "papermill": {
     "duration": 0.099375,
     "end_time": "2023-02-24T23:26:14.400635",
     "exception": false,
     "start_time": "2023-02-24T23:26:14.301260",
     "status": "completed"
    },
    "tags": []
   },
   "outputs": [
    {
     "data": {
      "application/javascript": [
       "parent.postMessage({\"jupyterEvent\": \"custom.exercise_interaction\", \"data\": {\"outcomeType\": 1, \"valueTowardsCompletion\": 0.25, \"interactionType\": 1, \"questionType\": 4, \"questionId\": \"4_Q4\", \"learnToolsVersion\": \"0.3.4\", \"failureMessage\": \"\", \"exceptionClass\": \"\", \"trace\": \"\"}}, \"*\")"
      ],
      "text/plain": [
       "<IPython.core.display.Javascript object>"
      ]
     },
     "metadata": {},
     "output_type": "display_data"
    },
    {
     "data": {
      "text/markdown": [
       "<span style=\"color:#33cc33\">Correct:</span> \n",
       "\n",
       "That the training loss and validation loss stay fairly close is evidence that the model isn't just memorizing the training data, but rather learning general properties of the two classes. But, because this model converges at a loss greater than the VGG16 model, it's likely that it is underfitting some, and could benefit from some extra capacity.\n"
      ],
      "text/plain": [
       "Correct: \n",
       "\n",
       "That the training loss and validation loss stay fairly close is evidence that the model isn't just memorizing the training data, but rather learning general properties of the two classes. But, because this model converges at a loss greater than the VGG16 model, it's likely that it is underfitting some, and could benefit from some extra capacity."
      ]
     },
     "metadata": {},
     "output_type": "display_data"
    }
   ],
   "source": [
    "# View the solution (Run this code cell to receive credit!)\n",
    "q_4.check()"
   ]
  },
  {
   "cell_type": "markdown",
   "id": "e4dbcdde",
   "metadata": {
    "papermill": {
     "duration": 0.080365,
     "end_time": "2023-02-24T23:26:14.565545",
     "exception": false,
     "start_time": "2023-02-24T23:26:14.485180",
     "status": "completed"
    },
    "tags": []
   },
   "source": [
    "# Conclusion #\n",
    "\n",
    "In this first lesson, you learned the basics of **convolutional image classifiers**, that they consist of a **base** for extracting features from images, and a **head** which uses the features to decide the image's class. You also saw how to build a classifier with **transfer learning** on pretrained base. "
   ]
  },
  {
   "cell_type": "markdown",
   "id": "e6b02a8e",
   "metadata": {
    "papermill": {
     "duration": 0.0786,
     "end_time": "2023-02-24T23:26:14.723290",
     "exception": false,
     "start_time": "2023-02-24T23:26:14.644690",
     "status": "completed"
    },
    "tags": []
   },
   "source": [
    "# Keep Going #\n",
    "\n",
    "Move on to [**Lesson 2**](https://www.kaggle.com/ryanholbrook/convolution-and-relu) for a detailed look at how the base does this feature extraction. (It's really cool!)"
   ]
  },
  {
   "cell_type": "markdown",
   "id": "a5a37a14",
   "metadata": {
    "papermill": {
     "duration": 0.08016,
     "end_time": "2023-02-24T23:26:14.882847",
     "exception": false,
     "start_time": "2023-02-24T23:26:14.802687",
     "status": "completed"
    },
    "tags": []
   },
   "source": [
    "---\n",
    "\n",
    "\n",
    "\n",
    "\n",
    "*Have questions or comments? Visit the [course discussion forum](https://www.kaggle.com/learn/computer-vision/discussion) to chat with other learners.*"
   ]
  },
  {
   "cell_type": "code",
   "execution_count": null,
   "id": "cdef5f0f",
   "metadata": {
    "papermill": {
     "duration": 0.079646,
     "end_time": "2023-02-24T23:26:15.042212",
     "exception": false,
     "start_time": "2023-02-24T23:26:14.962566",
     "status": "completed"
    },
    "tags": []
   },
   "outputs": [],
   "source": []
  },
  {
   "cell_type": "code",
   "execution_count": null,
   "id": "fe5ee4e0",
   "metadata": {
    "papermill": {
     "duration": 0.078978,
     "end_time": "2023-02-24T23:26:15.201179",
     "exception": false,
     "start_time": "2023-02-24T23:26:15.122201",
     "status": "completed"
    },
    "tags": []
   },
   "outputs": [],
   "source": []
  }
 ],
 "metadata": {
  "kernelspec": {
   "display_name": "Python 3",
   "language": "python",
   "name": "python3"
  },
  "language_info": {
   "codemirror_mode": {
    "name": "ipython",
    "version": 3
   },
   "file_extension": ".py",
   "mimetype": "text/x-python",
   "name": "python",
   "nbconvert_exporter": "python",
   "pygments_lexer": "ipython3",
   "version": "3.7.12"
  },
  "papermill": {
   "default_parameters": {},
   "duration": 209.182548,
   "end_time": "2023-02-24T23:26:19.303183",
   "environment_variables": {},
   "exception": null,
   "input_path": "__notebook__.ipynb",
   "output_path": "__notebook__.ipynb",
   "parameters": {},
   "start_time": "2023-02-24T23:22:50.120635",
   "version": "2.4.0"
  }
 },
 "nbformat": 4,
 "nbformat_minor": 5
}
