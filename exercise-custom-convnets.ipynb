{
 "cells": [
  {
   "cell_type": "markdown",
   "id": "05715f06",
   "metadata": {
    "papermill": {
     "duration": 0.004989,
     "end_time": "2023-02-25T03:01:19.204516",
     "exception": false,
     "start_time": "2023-02-25T03:01:19.199527",
     "status": "completed"
    },
    "tags": []
   },
   "source": [
    "**This notebook is an exercise in the [Computer Vision](https://www.kaggle.com/learn/computer-vision) course.  You can reference the tutorial at [this link](https://www.kaggle.com/ryanholbrook/custom-convnets).**\n",
    "\n",
    "---\n"
   ]
  },
  {
   "cell_type": "markdown",
   "id": "d5d92d43",
   "metadata": {
    "papermill": {
     "duration": 0.003755,
     "end_time": "2023-02-25T03:01:19.212251",
     "exception": false,
     "start_time": "2023-02-25T03:01:19.208496",
     "status": "completed"
    },
    "tags": []
   },
   "source": [
    "# Introduction #\n",
    "\n",
    "In these exercises, you'll build a custom convnet with performance competitive to the VGG16 model from Lesson 1.\n",
    "\n",
    "Get started by running the code cell below."
   ]
  },
  {
   "cell_type": "code",
   "execution_count": 1,
   "id": "5ba81582",
   "metadata": {
    "execution": {
     "iopub.execute_input": "2023-02-25T03:01:19.222202Z",
     "iopub.status.busy": "2023-02-25T03:01:19.221664Z",
     "iopub.status.idle": "2023-02-25T03:01:35.845311Z",
     "shell.execute_reply": "2023-02-25T03:01:35.843291Z"
    },
    "papermill": {
     "duration": 16.63155,
     "end_time": "2023-02-25T03:01:35.847762",
     "exception": false,
     "start_time": "2023-02-25T03:01:19.216212",
     "status": "completed"
    },
    "tags": []
   },
   "outputs": [
    {
     "name": "stdout",
     "output_type": "stream",
     "text": [
      "Found 5117 files belonging to 2 classes.\n",
      "Found 5051 files belonging to 2 classes.\n"
     ]
    }
   ],
   "source": [
    "# Setup feedback system\n",
    "from learntools.core import binder\n",
    "binder.bind(globals())\n",
    "from learntools.computer_vision.ex5 import *\n",
    "\n",
    "# Imports\n",
    "import os, warnings\n",
    "import matplotlib.pyplot as plt\n",
    "from matplotlib import gridspec\n",
    "\n",
    "import numpy as np\n",
    "import tensorflow as tf\n",
    "from tensorflow.keras.preprocessing import image_dataset_from_directory\n",
    "\n",
    "# Reproducability\n",
    "def set_seed(seed=31415):\n",
    "    np.random.seed(seed)\n",
    "    tf.random.set_seed(seed)\n",
    "    os.environ['PYTHONHASHSEED'] = str(seed)\n",
    "    os.environ['TF_DETERMINISTIC_OPS'] = '1'\n",
    "set_seed()\n",
    "\n",
    "# Set Matplotlib defaults\n",
    "plt.rc('figure', autolayout=True)\n",
    "plt.rc('axes', labelweight='bold', labelsize='large',\n",
    "       titleweight='bold', titlesize=18, titlepad=10)\n",
    "plt.rc('image', cmap='magma')\n",
    "warnings.filterwarnings(\"ignore\") # to clean up output cells\n",
    "\n",
    "\n",
    "# Load training and validation sets\n",
    "ds_train_ = image_dataset_from_directory(\n",
    "    '../input/car-or-truck/train',\n",
    "    labels='inferred',\n",
    "    label_mode='binary',\n",
    "    image_size=[128, 128],\n",
    "    interpolation='nearest',\n",
    "    batch_size=64,\n",
    "    shuffle=True,\n",
    ")\n",
    "ds_valid_ = image_dataset_from_directory(\n",
    "    '../input/car-or-truck/valid',\n",
    "    labels='inferred',\n",
    "    label_mode='binary',\n",
    "    image_size=[128, 128],\n",
    "    interpolation='nearest',\n",
    "    batch_size=64,\n",
    "    shuffle=False,\n",
    ")\n",
    "\n",
    "# Data Pipeline\n",
    "def convert_to_float(image, label):\n",
    "    image = tf.image.convert_image_dtype(image, dtype=tf.float32)\n",
    "    return image, label\n",
    "\n",
    "AUTOTUNE = tf.data.experimental.AUTOTUNE\n",
    "ds_train = (\n",
    "    ds_train_\n",
    "    .map(convert_to_float)\n",
    "    .cache()\n",
    "    .prefetch(buffer_size=AUTOTUNE)\n",
    ")\n",
    "ds_valid = (\n",
    "    ds_valid_\n",
    "    .map(convert_to_float)\n",
    "    .cache()\n",
    "    .prefetch(buffer_size=AUTOTUNE)\n",
    ")\n"
   ]
  },
  {
   "cell_type": "markdown",
   "id": "72cd223e",
   "metadata": {
    "papermill": {
     "duration": 0.00374,
     "end_time": "2023-02-25T03:01:35.855522",
     "exception": false,
     "start_time": "2023-02-25T03:01:35.851782",
     "status": "completed"
    },
    "tags": []
   },
   "source": [
    "# Design a Convnet #\n",
    "\n",
    "Let's design a convolutional network with a block architecture like we saw in the tutorial. The model from the example had three blocks, each with a single convolutional layer. Its performance on the \"Car or Truck\" problem was okay, but far from what the pretrained VGG16 could achieve. It might be that our simple network lacks the ability to extract sufficiently complex features. We could try improving the model either by adding more blocks or by adding convolutions to the blocks we have.\n",
    "\n",
    "Let's go with the second approach. We'll keep the three block structure, but increase the number of `Conv2D` layer in the second block to two, and in the third block to three.\n",
    "\n",
    "<figure>\n",
    "<!-- <img src=\"./images/2-convmodel-2.png\" width=\"250\" alt=\"Diagram of a convolutional model.\"> -->\n",
    "<img src=\"https://i.imgur.com/Vko6nCK.png\" width=\"250\" alt=\"Diagram of a convolutional model.\">\n",
    "</figure>\n",
    "\n",
    "# 1) Define Model #\n",
    "\n",
    "Given the diagram above, complete the model by defining the layers of the third block."
   ]
  },
  {
   "cell_type": "code",
   "execution_count": 2,
   "id": "353d2894",
   "metadata": {
    "execution": {
     "iopub.execute_input": "2023-02-25T03:01:35.871037Z",
     "iopub.status.busy": "2023-02-25T03:01:35.870748Z",
     "iopub.status.idle": "2023-02-25T03:01:36.016990Z",
     "shell.execute_reply": "2023-02-25T03:01:36.015946Z"
    },
    "lines_to_next_cell": 0,
    "papermill": {
     "duration": 0.157405,
     "end_time": "2023-02-25T03:01:36.019061",
     "exception": false,
     "start_time": "2023-02-25T03:01:35.861656",
     "status": "completed"
    },
    "tags": []
   },
   "outputs": [
    {
     "data": {
      "application/javascript": [
       "parent.postMessage({\"jupyterEvent\": \"custom.exercise_interaction\", \"data\": {\"outcomeType\": 1, \"valueTowardsCompletion\": 0.3333333333333333, \"interactionType\": 1, \"questionType\": 2, \"questionId\": \"1_Q1\", \"learnToolsVersion\": \"0.3.4\", \"failureMessage\": \"\", \"exceptionClass\": \"\", \"trace\": \"\"}}, \"*\")"
      ],
      "text/plain": [
       "<IPython.core.display.Javascript object>"
      ]
     },
     "metadata": {},
     "output_type": "display_data"
    },
    {
     "data": {
      "text/markdown": [
       "<span style=\"color:#33cc33\">Correct</span>"
      ],
      "text/plain": [
       "Correct"
      ]
     },
     "metadata": {},
     "output_type": "display_data"
    }
   ],
   "source": [
    "from tensorflow import keras\n",
    "from tensorflow.keras import layers\n",
    "\n",
    "model = keras.Sequential([\n",
    "    # Block One\n",
    "    layers.Conv2D(filters=32, kernel_size=3, activation='relu', padding='same',\n",
    "                  input_shape=[128, 128, 3]),\n",
    "    layers.MaxPool2D(),\n",
    "\n",
    "    # Block Two\n",
    "    layers.Conv2D(filters=64, kernel_size=3, activation='relu', padding='same'),\n",
    "    layers.MaxPool2D(),\n",
    "\n",
    "    #Block Three\n",
    "    layers.Conv2D(filters = 128,kernel_size = 3,activation = 'relu',padding = 'same'),\n",
    "    layers.Conv2D(filters = 128,kernel_size = 3,activation = 'relu',padding = 'same'),\n",
    "    layers.MaxPool2D(),\n",
    "    # Head\n",
    "    layers.Flatten(),\n",
    "    layers.Dense(6, activation='relu'),\n",
    "    layers.Dropout(0.2),\n",
    "    layers.Dense(1, activation='sigmoid'),\n",
    "])\n",
    "\n",
    "# Check your answer\n",
    "q_1.check()"
   ]
  },
  {
   "cell_type": "code",
   "execution_count": 3,
   "id": "c354b058",
   "metadata": {
    "execution": {
     "iopub.execute_input": "2023-02-25T03:01:36.028874Z",
     "iopub.status.busy": "2023-02-25T03:01:36.028074Z",
     "iopub.status.idle": "2023-02-25T03:01:36.032627Z",
     "shell.execute_reply": "2023-02-25T03:01:36.031723Z"
    },
    "papermill": {
     "duration": 0.011499,
     "end_time": "2023-02-25T03:01:36.034658",
     "exception": false,
     "start_time": "2023-02-25T03:01:36.023159",
     "status": "completed"
    },
    "tags": []
   },
   "outputs": [],
   "source": [
    "# Lines below will give you a hint or solution code\n",
    "#q_1.hint()\n",
    "#q_1.solution()"
   ]
  },
  {
   "cell_type": "markdown",
   "id": "6195cf38",
   "metadata": {
    "papermill": {
     "duration": 0.003787,
     "end_time": "2023-02-25T03:01:36.042425",
     "exception": false,
     "start_time": "2023-02-25T03:01:36.038638",
     "status": "completed"
    },
    "tags": []
   },
   "source": [
    "# 2) Compile #\n",
    "\n",
    "To prepare for training, compile the model with an appropriate loss and accuracy metric for the \"Car or Truck\" dataset."
   ]
  },
  {
   "cell_type": "code",
   "execution_count": 4,
   "id": "bdcd09c8",
   "metadata": {
    "execution": {
     "iopub.execute_input": "2023-02-25T03:01:36.051503Z",
     "iopub.status.busy": "2023-02-25T03:01:36.051239Z",
     "iopub.status.idle": "2023-02-25T03:01:36.071054Z",
     "shell.execute_reply": "2023-02-25T03:01:36.069998Z"
    },
    "lines_to_next_cell": 0,
    "papermill": {
     "duration": 0.026904,
     "end_time": "2023-02-25T03:01:36.073260",
     "exception": false,
     "start_time": "2023-02-25T03:01:36.046356",
     "status": "completed"
    },
    "tags": []
   },
   "outputs": [
    {
     "data": {
      "application/javascript": [
       "parent.postMessage({\"jupyterEvent\": \"custom.exercise_interaction\", \"data\": {\"outcomeType\": 1, \"valueTowardsCompletion\": 0.3333333333333333, \"interactionType\": 1, \"questionType\": 2, \"questionId\": \"2_Q2\", \"learnToolsVersion\": \"0.3.4\", \"failureMessage\": \"\", \"exceptionClass\": \"\", \"trace\": \"\"}}, \"*\")"
      ],
      "text/plain": [
       "<IPython.core.display.Javascript object>"
      ]
     },
     "metadata": {},
     "output_type": "display_data"
    },
    {
     "data": {
      "text/markdown": [
       "<span style=\"color:#33cc33\">Correct</span>"
      ],
      "text/plain": [
       "Correct"
      ]
     },
     "metadata": {},
     "output_type": "display_data"
    }
   ],
   "source": [
    "model.compile(\n",
    "    optimizer=tf.keras.optimizers.Adam(epsilon=0.01),\n",
    "    # YOUR CODE HERE: Add loss and metric\n",
    "    loss = 'binary_crossentropy',\n",
    "    metrics = ['binary_accuracy']\n",
    ")\n",
    "\n",
    "# Check your answer\n",
    "q_2.check()"
   ]
  },
  {
   "cell_type": "code",
   "execution_count": 5,
   "id": "1b194dda",
   "metadata": {
    "execution": {
     "iopub.execute_input": "2023-02-25T03:01:36.082764Z",
     "iopub.status.busy": "2023-02-25T03:01:36.082484Z",
     "iopub.status.idle": "2023-02-25T03:01:36.096560Z",
     "shell.execute_reply": "2023-02-25T03:01:36.095526Z"
    },
    "lines_to_next_cell": 0,
    "papermill": {
     "duration": 0.021256,
     "end_time": "2023-02-25T03:01:36.098721",
     "exception": false,
     "start_time": "2023-02-25T03:01:36.077465",
     "status": "completed"
    },
    "tags": []
   },
   "outputs": [
    {
     "data": {
      "application/javascript": [
       "parent.postMessage({\"jupyterEvent\": \"custom.exercise_interaction\", \"data\": {\"outcomeType\": 1, \"valueTowardsCompletion\": 0.3333333333333333, \"interactionType\": 1, \"questionType\": 2, \"questionId\": \"2_Q2\", \"learnToolsVersion\": \"0.3.4\", \"failureMessage\": \"\", \"exceptionClass\": \"\", \"trace\": \"\"}}, \"*\")"
      ],
      "text/plain": [
       "<IPython.core.display.Javascript object>"
      ]
     },
     "metadata": {},
     "output_type": "display_data"
    },
    {
     "data": {
      "text/markdown": [
       "<span style=\"color:#33cc33\">Correct</span>"
      ],
      "text/plain": [
       "Correct"
      ]
     },
     "metadata": {},
     "output_type": "display_data"
    }
   ],
   "source": [
    "model.compile(\n",
    "    optimizer=tf.keras.optimizers.Adam(epsilon=0.01),\n",
    "    loss='binary_crossentropy',\n",
    "    metrics=['binary_accuracy'],\n",
    ")\n",
    "q_2.assert_check_passed()"
   ]
  },
  {
   "cell_type": "code",
   "execution_count": 6,
   "id": "9cbf617b",
   "metadata": {
    "execution": {
     "iopub.execute_input": "2023-02-25T03:01:36.108510Z",
     "iopub.status.busy": "2023-02-25T03:01:36.108254Z",
     "iopub.status.idle": "2023-02-25T03:01:36.112194Z",
     "shell.execute_reply": "2023-02-25T03:01:36.111171Z"
    },
    "lines_to_next_cell": 0,
    "papermill": {
     "duration": 0.011264,
     "end_time": "2023-02-25T03:01:36.114292",
     "exception": false,
     "start_time": "2023-02-25T03:01:36.103028",
     "status": "completed"
    },
    "tags": []
   },
   "outputs": [],
   "source": [
    "# Lines below will give you a hint or solution code\n",
    "#q_2.hint()\n",
    "#q_2.solution()"
   ]
  },
  {
   "cell_type": "markdown",
   "id": "8e576c81",
   "metadata": {
    "papermill": {
     "duration": 0.004148,
     "end_time": "2023-02-25T03:01:36.122892",
     "exception": false,
     "start_time": "2023-02-25T03:01:36.118744",
     "status": "completed"
    },
    "tags": []
   },
   "source": [
    "Finally, let's test the performance of this new model. First run this cell to fit the model to the training set."
   ]
  },
  {
   "cell_type": "code",
   "execution_count": 7,
   "id": "b66f8575",
   "metadata": {
    "execution": {
     "iopub.execute_input": "2023-02-25T03:01:36.132671Z",
     "iopub.status.busy": "2023-02-25T03:01:36.132412Z",
     "iopub.status.idle": "2023-02-25T03:05:56.459293Z",
     "shell.execute_reply": "2023-02-25T03:05:56.458291Z"
    },
    "papermill": {
     "duration": 260.334134,
     "end_time": "2023-02-25T03:05:56.461419",
     "exception": false,
     "start_time": "2023-02-25T03:01:36.127285",
     "status": "completed"
    },
    "tags": []
   },
   "outputs": [
    {
     "name": "stdout",
     "output_type": "stream",
     "text": [
      "Epoch 1/50\n",
      "80/80 [==============================] - 45s 435ms/step - loss: 0.6804 - binary_accuracy: 0.5773 - val_loss: 0.6707 - val_binary_accuracy: 0.5785\n",
      "Epoch 2/50\n",
      "80/80 [==============================] - 5s 57ms/step - loss: 0.6663 - binary_accuracy: 0.5916 - val_loss: 0.6598 - val_binary_accuracy: 0.6278\n",
      "Epoch 3/50\n",
      "80/80 [==============================] - 4s 54ms/step - loss: 0.6558 - binary_accuracy: 0.6148 - val_loss: 0.6443 - val_binary_accuracy: 0.6335\n",
      "Epoch 4/50\n",
      "80/80 [==============================] - 4s 54ms/step - loss: 0.6410 - binary_accuracy: 0.6222 - val_loss: 0.6319 - val_binary_accuracy: 0.6351\n",
      "Epoch 5/50\n",
      "80/80 [==============================] - 4s 55ms/step - loss: 0.6306 - binary_accuracy: 0.6387 - val_loss: 0.6231 - val_binary_accuracy: 0.6472\n",
      "Epoch 6/50\n",
      "80/80 [==============================] - 4s 54ms/step - loss: 0.6262 - binary_accuracy: 0.6396 - val_loss: 0.6196 - val_binary_accuracy: 0.6486\n",
      "Epoch 7/50\n",
      "80/80 [==============================] - 5s 57ms/step - loss: 0.6192 - binary_accuracy: 0.6551 - val_loss: 0.6209 - val_binary_accuracy: 0.6527\n",
      "Epoch 8/50\n",
      "80/80 [==============================] - 4s 54ms/step - loss: 0.6095 - binary_accuracy: 0.6605 - val_loss: 0.6008 - val_binary_accuracy: 0.6714\n",
      "Epoch 9/50\n",
      "80/80 [==============================] - 4s 54ms/step - loss: 0.6012 - binary_accuracy: 0.6705 - val_loss: 0.5914 - val_binary_accuracy: 0.6818\n",
      "Epoch 10/50\n",
      "80/80 [==============================] - 4s 54ms/step - loss: 0.5872 - binary_accuracy: 0.6897 - val_loss: 0.5818 - val_binary_accuracy: 0.6961\n",
      "Epoch 11/50\n",
      "80/80 [==============================] - 4s 54ms/step - loss: 0.5769 - binary_accuracy: 0.6940 - val_loss: 0.5794 - val_binary_accuracy: 0.6921\n",
      "Epoch 12/50\n",
      "80/80 [==============================] - 4s 56ms/step - loss: 0.5552 - binary_accuracy: 0.7192 - val_loss: 0.5540 - val_binary_accuracy: 0.7111\n",
      "Epoch 13/50\n",
      "80/80 [==============================] - 4s 54ms/step - loss: 0.5407 - binary_accuracy: 0.7289 - val_loss: 0.5473 - val_binary_accuracy: 0.7191\n",
      "Epoch 14/50\n",
      "80/80 [==============================] - 4s 54ms/step - loss: 0.5218 - binary_accuracy: 0.7475 - val_loss: 0.5250 - val_binary_accuracy: 0.7399\n",
      "Epoch 15/50\n",
      "80/80 [==============================] - 4s 54ms/step - loss: 0.4911 - binary_accuracy: 0.7698 - val_loss: 0.5074 - val_binary_accuracy: 0.7529\n",
      "Epoch 16/50\n",
      "80/80 [==============================] - 4s 54ms/step - loss: 0.4637 - binary_accuracy: 0.7884 - val_loss: 0.5003 - val_binary_accuracy: 0.7535\n",
      "Epoch 17/50\n",
      "80/80 [==============================] - 4s 54ms/step - loss: 0.4417 - binary_accuracy: 0.7950 - val_loss: 0.4671 - val_binary_accuracy: 0.7794\n",
      "Epoch 18/50\n",
      "80/80 [==============================] - 4s 54ms/step - loss: 0.4098 - binary_accuracy: 0.8183 - val_loss: 0.4429 - val_binary_accuracy: 0.7985\n",
      "Epoch 19/50\n",
      "80/80 [==============================] - 4s 55ms/step - loss: 0.3890 - binary_accuracy: 0.8317 - val_loss: 0.4639 - val_binary_accuracy: 0.7763\n",
      "Epoch 20/50\n",
      "80/80 [==============================] - 4s 54ms/step - loss: 0.3667 - binary_accuracy: 0.8407 - val_loss: 0.4461 - val_binary_accuracy: 0.7996\n",
      "Epoch 21/50\n",
      "80/80 [==============================] - 4s 54ms/step - loss: 0.3443 - binary_accuracy: 0.8495 - val_loss: 0.4478 - val_binary_accuracy: 0.8010\n",
      "Epoch 22/50\n",
      "80/80 [==============================] - 4s 55ms/step - loss: 0.3115 - binary_accuracy: 0.8663 - val_loss: 0.4293 - val_binary_accuracy: 0.8095\n",
      "Epoch 23/50\n",
      "80/80 [==============================] - 4s 54ms/step - loss: 0.2761 - binary_accuracy: 0.8835 - val_loss: 0.4716 - val_binary_accuracy: 0.8052\n",
      "Epoch 24/50\n",
      "80/80 [==============================] - 4s 54ms/step - loss: 0.2656 - binary_accuracy: 0.8890 - val_loss: 0.4213 - val_binary_accuracy: 0.8206\n",
      "Epoch 25/50\n",
      "80/80 [==============================] - 4s 55ms/step - loss: 0.2525 - binary_accuracy: 0.8941 - val_loss: 0.4395 - val_binary_accuracy: 0.8214\n",
      "Epoch 26/50\n",
      "80/80 [==============================] - 4s 55ms/step - loss: 0.2234 - binary_accuracy: 0.9056 - val_loss: 0.4394 - val_binary_accuracy: 0.8285\n",
      "Epoch 27/50\n",
      "80/80 [==============================] - 4s 54ms/step - loss: 0.1934 - binary_accuracy: 0.9197 - val_loss: 0.5010 - val_binary_accuracy: 0.8280\n",
      "Epoch 28/50\n",
      "80/80 [==============================] - 4s 53ms/step - loss: 0.2142 - binary_accuracy: 0.9068 - val_loss: 0.5854 - val_binary_accuracy: 0.7769\n",
      "Epoch 29/50\n",
      "80/80 [==============================] - 4s 54ms/step - loss: 0.1745 - binary_accuracy: 0.9189 - val_loss: 0.4748 - val_binary_accuracy: 0.8248\n",
      "Epoch 30/50\n",
      "80/80 [==============================] - 4s 55ms/step - loss: 0.1695 - binary_accuracy: 0.9246 - val_loss: 0.5335 - val_binary_accuracy: 0.8032\n",
      "Epoch 31/50\n",
      "80/80 [==============================] - 4s 54ms/step - loss: 0.1594 - binary_accuracy: 0.9279 - val_loss: 0.5074 - val_binary_accuracy: 0.8345\n",
      "Epoch 32/50\n",
      "80/80 [==============================] - 4s 54ms/step - loss: 0.1760 - binary_accuracy: 0.9193 - val_loss: 0.5028 - val_binary_accuracy: 0.8402\n",
      "Epoch 33/50\n",
      "80/80 [==============================] - 4s 54ms/step - loss: 0.1719 - binary_accuracy: 0.9250 - val_loss: 0.4989 - val_binary_accuracy: 0.8416\n",
      "Epoch 34/50\n",
      "80/80 [==============================] - 4s 54ms/step - loss: 0.1498 - binary_accuracy: 0.9310 - val_loss: 0.6265 - val_binary_accuracy: 0.8141\n",
      "Epoch 35/50\n",
      "80/80 [==============================] - 4s 54ms/step - loss: 0.1421 - binary_accuracy: 0.9400 - val_loss: 0.7175 - val_binary_accuracy: 0.8060\n",
      "Epoch 36/50\n",
      "80/80 [==============================] - 4s 53ms/step - loss: 0.1100 - binary_accuracy: 0.9484 - val_loss: 0.6343 - val_binary_accuracy: 0.8210\n",
      "Epoch 37/50\n",
      "80/80 [==============================] - 4s 55ms/step - loss: 0.1018 - binary_accuracy: 0.9549 - val_loss: 0.5995 - val_binary_accuracy: 0.8361\n",
      "Epoch 38/50\n",
      "80/80 [==============================] - 4s 54ms/step - loss: 0.1033 - binary_accuracy: 0.9562 - val_loss: 0.5007 - val_binary_accuracy: 0.8462\n",
      "Epoch 39/50\n",
      "80/80 [==============================] - 4s 54ms/step - loss: 0.0779 - binary_accuracy: 0.9637 - val_loss: 0.6517 - val_binary_accuracy: 0.8410\n",
      "Epoch 40/50\n",
      "80/80 [==============================] - 4s 55ms/step - loss: 0.0649 - binary_accuracy: 0.9681 - val_loss: 0.5765 - val_binary_accuracy: 0.8493\n",
      "Epoch 41/50\n",
      "80/80 [==============================] - 4s 54ms/step - loss: 0.0655 - binary_accuracy: 0.9699 - val_loss: 0.5809 - val_binary_accuracy: 0.8493\n",
      "Epoch 42/50\n",
      "80/80 [==============================] - 5s 57ms/step - loss: 0.0639 - binary_accuracy: 0.9693 - val_loss: 0.5386 - val_binary_accuracy: 0.8454\n",
      "Epoch 43/50\n",
      "80/80 [==============================] - 4s 53ms/step - loss: 0.0662 - binary_accuracy: 0.9705 - val_loss: 0.6623 - val_binary_accuracy: 0.8446\n",
      "Epoch 44/50\n",
      "80/80 [==============================] - 4s 54ms/step - loss: 0.0675 - binary_accuracy: 0.9685 - val_loss: 0.5925 - val_binary_accuracy: 0.8535\n",
      "Epoch 45/50\n",
      "80/80 [==============================] - 4s 55ms/step - loss: 0.0714 - binary_accuracy: 0.9672 - val_loss: 0.6126 - val_binary_accuracy: 0.8339\n",
      "Epoch 46/50\n",
      "80/80 [==============================] - 4s 54ms/step - loss: 0.0636 - binary_accuracy: 0.9703 - val_loss: 0.6279 - val_binary_accuracy: 0.8357\n",
      "Epoch 47/50\n",
      "80/80 [==============================] - 4s 53ms/step - loss: 0.0613 - binary_accuracy: 0.9722 - val_loss: 0.7281 - val_binary_accuracy: 0.8129\n",
      "Epoch 48/50\n",
      "80/80 [==============================] - 5s 56ms/step - loss: 0.0588 - binary_accuracy: 0.9734 - val_loss: 0.8552 - val_binary_accuracy: 0.8028\n",
      "Epoch 49/50\n",
      "80/80 [==============================] - 4s 54ms/step - loss: 0.0616 - binary_accuracy: 0.9719 - val_loss: 0.6457 - val_binary_accuracy: 0.8345\n",
      "Epoch 50/50\n",
      "80/80 [==============================] - 4s 53ms/step - loss: 0.0672 - binary_accuracy: 0.9689 - val_loss: 0.5956 - val_binary_accuracy: 0.8563\n"
     ]
    }
   ],
   "source": [
    "history = model.fit(\n",
    "    ds_train,\n",
    "    validation_data=ds_valid,\n",
    "    epochs=50,\n",
    ")"
   ]
  },
  {
   "cell_type": "code",
   "execution_count": 8,
   "id": "2ff4903e",
   "metadata": {
    "execution": {
     "iopub.execute_input": "2023-02-25T03:05:56.703522Z",
     "iopub.status.busy": "2023-02-25T03:05:56.702641Z",
     "iopub.status.idle": "2023-02-25T03:05:56.707715Z",
     "shell.execute_reply": "2023-02-25T03:05:56.706748Z"
    },
    "papermill": {
     "duration": 0.132829,
     "end_time": "2023-02-25T03:05:56.709861",
     "exception": false,
     "start_time": "2023-02-25T03:05:56.577032",
     "status": "completed"
    },
    "tags": []
   },
   "outputs": [],
   "source": [
    "import warnings\n",
    "warnings.filterwarnings('ignore')"
   ]
  },
  {
   "cell_type": "markdown",
   "id": "34ed5e28",
   "metadata": {
    "papermill": {
     "duration": 0.11324,
     "end_time": "2023-02-25T03:05:56.937382",
     "exception": false,
     "start_time": "2023-02-25T03:05:56.824142",
     "status": "completed"
    },
    "tags": []
   },
   "source": [
    "And now run the cell below to plot the loss and metric curves for this training run."
   ]
  },
  {
   "cell_type": "code",
   "execution_count": 9,
   "id": "0da96de9",
   "metadata": {
    "execution": {
     "iopub.execute_input": "2023-02-25T03:05:57.223251Z",
     "iopub.status.busy": "2023-02-25T03:05:57.222290Z",
     "iopub.status.idle": "2023-02-25T03:05:57.825433Z",
     "shell.execute_reply": "2023-02-25T03:05:57.824369Z"
    },
    "papermill": {
     "duration": 0.72088,
     "end_time": "2023-02-25T03:05:57.827778",
     "exception": false,
     "start_time": "2023-02-25T03:05:57.106898",
     "status": "completed"
    },
    "tags": []
   },
   "outputs": [
    {
     "data": {
      "image/png": "[encoded data removed]",
      "text/plain": [
       "<Figure size 640x480 with 1 Axes>"
      ]
     },
     "metadata": {},
     "output_type": "display_data"
    },
    {
     "data": {
      "image/png": "[encoded data removed]",
      "text/plain": [
       "<Figure size 640x480 with 1 Axes>"
      ]
     },
     "metadata": {},
     "output_type": "display_data"
    }
   ],
   "source": [
    "import pandas as pd\n",
    "history_frame = pd.DataFrame(history.history)\n",
    "history_frame.loc[:, ['loss', 'val_loss']].plot()\n",
    "history_frame.loc[:, ['binary_accuracy', 'val_binary_accuracy']].plot();"
   ]
  },
  {
   "cell_type": "markdown",
   "id": "258ac7b0",
   "metadata": {
    "papermill": {
     "duration": 0.117955,
     "end_time": "2023-02-25T03:05:58.062421",
     "exception": false,
     "start_time": "2023-02-25T03:05:57.944466",
     "status": "completed"
    },
    "tags": []
   },
   "source": [
    "# 3) Train the Model #\n",
    "\n",
    "How would you interpret these training curves? Did this model improve upon the model from the tutorial?"
   ]
  },
  {
   "cell_type": "code",
   "execution_count": 10,
   "id": "a96c229a",
   "metadata": {
    "execution": {
     "iopub.execute_input": "2023-02-25T03:05:58.300815Z",
     "iopub.status.busy": "2023-02-25T03:05:58.300393Z",
     "iopub.status.idle": "2023-02-25T03:05:58.309150Z",
     "shell.execute_reply": "2023-02-25T03:05:58.307966Z"
    },
    "lines_to_next_cell": 0,
    "papermill": {
     "duration": 0.132103,
     "end_time": "2023-02-25T03:05:58.312917",
     "exception": false,
     "start_time": "2023-02-25T03:05:58.180814",
     "status": "completed"
    },
    "tags": []
   },
   "outputs": [
    {
     "data": {
      "application/javascript": [
       "parent.postMessage({\"jupyterEvent\": \"custom.exercise_interaction\", \"data\": {\"outcomeType\": 1, \"valueTowardsCompletion\": 0.3333333333333333, \"interactionType\": 1, \"questionType\": 4, \"questionId\": \"3_Q3\", \"learnToolsVersion\": \"0.3.4\", \"failureMessage\": \"\", \"exceptionClass\": \"\", \"trace\": \"\"}}, \"*\")"
      ],
      "text/plain": [
       "<IPython.core.display.Javascript object>"
      ]
     },
     "metadata": {},
     "output_type": "display_data"
    },
    {
     "data": {
      "text/markdown": [
       "<span style=\"color:#33cc33\">Correct:</span> \n",
       "\n",
       "\n",
       "The learning curves for the model from the tutorial diverged fairly rapidly. This would indicate that it was prone to overfitting and in need of some regularization. The additional layer in our new model would make it even more prone to overfitting. However, adding some regularization with the `Dropout` layer helped prevent this. These changes improved the validation accuracy of the model by several points.\n"
      ],
      "text/plain": [
       "Correct: \n",
       "\n",
       "\n",
       "The learning curves for the model from the tutorial diverged fairly rapidly. This would indicate that it was prone to overfitting and in need of some regularization. The additional layer in our new model would make it even more prone to overfitting. However, adding some regularization with the `Dropout` layer helped prevent this. These changes improved the validation accuracy of the model by several points."
      ]
     },
     "metadata": {},
     "output_type": "display_data"
    }
   ],
   "source": [
    "# View the solution (Run this code cell to receive credit!)\n",
    "q_3.check()"
   ]
  },
  {
   "cell_type": "markdown",
   "id": "a197592e",
   "metadata": {
    "papermill": {
     "duration": 0.117018,
     "end_time": "2023-02-25T03:05:58.546232",
     "exception": false,
     "start_time": "2023-02-25T03:05:58.429214",
     "status": "completed"
    },
    "tags": []
   },
   "source": [
    "# Conclusion #\n",
    "\n",
    "These exercises showed you how to design a custom convolutional network to solve a specific classification problem. Though most models these days will be built on top of a pretrained base, it certain circumstances a smaller custom convnet might still be preferable -- such as with a smaller or unusual dataset or when computing resources are very limited. As you saw here, for certain problems they can perform just as well as a pretrained model.\n",
    "\n",
    "# Keep Going #\n",
    "\n",
    "Continue on to [**Lesson 6**](https://www.kaggle.com/ryanholbrook/data-augmentation), where you'll learn a widely-used technique that can give a boost to your training data: **data augmentation**."
   ]
  },
  {
   "cell_type": "markdown",
   "id": "62110470",
   "metadata": {
    "papermill": {
     "duration": 0.116069,
     "end_time": "2023-02-25T03:05:58.780090",
     "exception": false,
     "start_time": "2023-02-25T03:05:58.664021",
     "status": "completed"
    },
    "tags": []
   },
   "source": [
    "---\n",
    "\n",
    "\n",
    "\n",
    "\n",
    "*Have questions or comments? Visit the [course discussion forum](https://www.kaggle.com/learn/computer-vision/discussion) to chat with other learners.*"
   ]
  }
 ],
 "metadata": {
  "kernelspec": {
   "display_name": "Python 3",
   "language": "python",
   "name": "python3"
  },
  "language_info": {
   "codemirror_mode": {
    "name": "ipython",
    "version": 3
   },
   "file_extension": ".py",
   "mimetype": "text/x-python",
   "name": "python",
   "nbconvert_exporter": "python",
   "pygments_lexer": "ipython3",
   "version": "3.7.12"
  },
  "papermill": {
   "default_parameters": {},
   "duration": 291.994681,
   "end_time": "2023-02-25T03:06:02.105021",
   "environment_variables": {},
   "exception": null,
   "input_path": "__notebook__.ipynb",
   "output_path": "__notebook__.ipynb",
   "parameters": {},
   "start_time": "2023-02-25T03:01:10.110340",
   "version": "2.4.0"
  }
 },
 "nbformat": 4,
 "nbformat_minor": 5
}
